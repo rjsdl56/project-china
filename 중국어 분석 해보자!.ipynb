{
 "cells": [
  {
   "cell_type": "markdown",
   "metadata": {},
   "source": [
    "# 참고할 사이트\n",
    "- https://blog.csdn.net/Yellow_python/article/details/83991967\n",
    "- "
   ]
  },
  {
   "cell_type": "markdown",
   "metadata": {},
   "source": [
    "# 중국어 품사 태깅 \n",
    "\n",
    "1. 名词 (1个一类，7个二类，5个三类)\n",
    "名词分为以下子类：\n",
    "n 名词\n",
    "nr 人名\n",
    "nr1 汉语姓氏\n",
    "nr2 汉语名字\n",
    "nrj 日语人名\n",
    "nrf 音译人名\n",
    "ns 地名\n",
    "nsf 音译地名\n",
    "nt 机构团体名\n",
    "nz 其它专名\n",
    "nl 名词性惯用语\n",
    "ng 单字名词\n",
    "nrfg 人名\n",
    "nr 人名，混乱\n",
    "\n",
    "2. 时间词(1个一类，1个二类)\n",
    "t 时间词\n",
    "tg 时间词性语素\n",
    "\n",
    "3. 处所词(1个一类)\n",
    "s 处所词\n",
    "\n",
    "4. 方位词(1个一类)\n",
    "f 方位词\n",
    "\n",
    "\n",
    "5. 动词(1个一类，9个二类)\n",
    "\n",
    "v 动词\n",
    "vd 副动词\n",
    "vn 名动词\n",
    "vshi 动词“是”\n",
    "vyou 动词“有”\n",
    "vf 趋向动词\n",
    "vx 形式动词\n",
    "vi 不及物动词（内动词）\n",
    "vl 动词性惯用语\n",
    "vg 动词性语素\n",
    "6. 形容词(1个一类，4个二类)\n",
    "\n",
    "a 形容词\n",
    "ad 副形词\n",
    "an 名形词\n",
    "ag 形容词性语素\n",
    "al 形容词性惯用语\n",
    "7. 区别词(1个一类，2个二类)\n",
    "\n",
    "b 区别词\n",
    "bl 区别词性惯用语\n",
    "8. 状态词(1个一类)\n",
    "\n",
    "z 状态词\n",
    "\n",
    "9. 代词(1个一类，4个二类，6个三类)\n",
    "r 代词\n",
    "rr 人称代词\n",
    "rz 指示代词\n",
    "rzt 时间指示代词\n",
    "rzs 处所指示代词\n",
    "rzv 谓词性指示代词\n",
    "ry 疑问代词\n",
    "ryt 时间疑问代词\n",
    "rys 处所疑问代词\n",
    "ryv 谓词性疑问代词\n",
    "rg 代词性语素\n",
    "\n",
    "10. 数词(1个一类，1个二类)\n",
    "m 数词\n",
    "mq 数量词\n",
    "\n",
    "11. 量词(1个一类，2个二类)\n",
    "q 量词\n",
    "qv 动量词\n",
    "qt 时量词\n",
    "\n",
    "12. 副词(1个一类)\n",
    "d 副词\n",
    "\n",
    "13. 介词(1个一类，2个二类)\n",
    "p 介词\n",
    "pba 介词“把”\n",
    "pbei 介词“被”\n",
    "\n",
    "14. 连词(1个一类，1个二类)\n",
    "c 连词\n",
    "cc 并列连词\n",
    "\n",
    "15. 助词(1个一类，15个二类)\n",
    "u 助词\n",
    "uzhe 着\n",
    "ule 了 喽\n",
    "uguo 过\n",
    "ude1 的 底\n",
    "ude2 地\n",
    "ude3 得\n",
    "usuo 所\n",
    "udeng 等 等等 云云\n",
    "uyy 一样 一般 似的 般\n",
    "udh 的话\n",
    "uls 来讲 来说 而言 说来\n",
    "uzhi 之\n",
    "ulian 连 （“连小学生都会”）\n",
    "\n",
    "16. 叹词(1个一类)\n",
    "e 叹词\n",
    "\n",
    "    语气词(1个一类)\n",
    "    y 语气词(delete yg)\n",
    "\n",
    "18. 拟声词(1个一类)\n",
    "o 拟声词\n",
    "\n",
    "19. 前缀(1个一类)\n",
    "h 前缀\n",
    "\n",
    "20. 后缀(1个一类)\n",
    "k 后缀\n",
    "\n",
    "21. 字符串(1个一类，2个二类)\n",
    "x 字符串\n",
    "xx 非语素字\n",
    "xu 网址URL\n",
    "\n",
    "22. 标点符号(1个一类，16个二类)\n",
    "w 标点符号\n",
    "wkz 左括号，全角：（ 〔 ［ ｛ 《 【 〖 〈 半角：( [ { <\n",
    "wky 右括号，全角：） 〕 ］ ｝ 》 】 〗 〉 半角： ) ] { >\n",
    "wyz 左引号，全角：“ ‘ 『\n",
    "wyy 右引号，全角：” ’ 』\n",
    "wj 句号，全角：。\n",
    "ww 问号，全角：？ 半角：?\n",
    "wt 叹号，全角：！ 半角：!\n",
    "wd 逗号，全角：， 半角：,\n",
    "wf 分号，全角：； 半角： ;\n",
    "wn 顿号，全角：、\n",
    "wm 冒号，全角：： 半角： :\n",
    "ws 省略号，全角：…… …\n",
    "wp 破折号，全角：—— －－ ——－ 半角：--- ----\n",
    "wb 百分号千分号，全角：％ ‰ 半角：%\n",
    "wh 单位符号，全角：￥ ＄ ￡ ° ℃ 半角：$\n",
    "\n",
    "作者：天空之翼\n",
    "链接：https://www.jianshu.com/p/866e16794e9f\n",
    "来源：简书\n",
    "著作权归作者所有。商业转载请联系作者获得授权，非商业转载请注明出处。"
   ]
  },
  {
   "cell_type": "code",
   "execution_count": null,
   "metadata": {},
   "outputs": [],
   "source": []
  },
  {
   "cell_type": "code",
   "execution_count": 1,
   "metadata": {},
   "outputs": [],
   "source": [
    "import jieba"
   ]
  },
  {
   "cell_type": "code",
   "execution_count": 2,
   "metadata": {},
   "outputs": [],
   "source": [
    "text = \"我来到韩国外国语大学，第一专业是中文，第二专业是经济。\""
   ]
  },
  {
   "cell_type": "code",
   "execution_count": 3,
   "metadata": {},
   "outputs": [
    {
     "name": "stderr",
     "output_type": "stream",
     "text": [
      "Building prefix dict from the default dictionary ...\n",
      "Dumping model to file cache C:\\Users\\parkgun\\AppData\\Local\\Temp\\jieba.cache\n",
      "Loading model cost 0.985 seconds.\n",
      "Prefix dict has been built successfully.\n"
     ]
    },
    {
     "name": "stdout",
     "output_type": "stream",
     "text": [
      "완전모드 :  我/来到/韩国/国外/外国/外国语/国语/大学/，/第一/专业/是/中文/，/第二/二专/专业/是/经济/。\n"
     ]
    }
   ],
   "source": [
    "# 全模式 (완전 모드)\n",
    "\n",
    "seg_list = jieba.cut(text, cut_all=True)\n",
    "print(u\"완전모드 : \", \"/\".join(seg_list))"
   ]
  },
  {
   "cell_type": "markdown",
   "metadata": {},
   "source": [
    "### 완전모드 설명\n",
    "완전 모드는 텍스트 내 단어가 될 수 있는 모든 어구들을 모두 스캔하여 출력한다.\n",
    "예컨대 한국외국어대학 이라는 단어에서 '한국', '국외', '외국', '외국어', '대학' 등의 단어가 출력된다.\n",
    "분석 속도가 빠르지만, 동음이의어는 해석해주지 못하는 듯 하다."
   ]
  },
  {
   "cell_type": "code",
   "execution_count": 4,
   "metadata": {},
   "outputs": [
    {
     "name": "stdout",
     "output_type": "stream",
     "text": [
      "기본모드 :  我/来到/韩国/外国语/大学/，/第一/专业/是/中文/，/第二/专业/是/经济/。\n"
     ]
    }
   ],
   "source": [
    "# 精确模式 (기본 모드)\n",
    "\n",
    "seg_list = jieba.cut(text, cut_all=False)\n",
    "print(u\"기본모드 : \", \"/\".join(seg_list))"
   ]
  },
  {
   "cell_type": "markdown",
   "metadata": {},
   "source": [
    "### 기본모드 설명\n",
    "기본 모드는 텍스트 내 문장을 변형없이 단어 단위로 분할해 출력한다.\n",
    "예컨대 한국외국어대학교 라는 단어를 '한국', '외국어', '대학교'로 분할한다.\n",
    "즉, 텍스트 내에서 여러 단어로 조합될 수 있는 부분이라도, 해당 문장에서 쓰인 단어대로 분할해 출력한다.\n",
    "때문에 문장 그대로 텍스트 마이닝할 때 가장 좋은 구조이다."
   ]
  },
  {
   "cell_type": "code",
   "execution_count": 6,
   "metadata": {},
   "outputs": [
    {
     "name": "stdout",
     "output_type": "stream",
     "text": [
      "디폴트형 기본모드 :  我/来到/韩国/外国语/大学/，/第一/专业/是/中文/，/第二/专业/是/经济/。\n"
     ]
    }
   ],
   "source": [
    "# 默认式精确模式 (디폴트형 기본모드)\n",
    "\n",
    "seg_list = jieba.cut(text)\n",
    "print(u\"디폴트형 기본모드 : \", \"/\".join(seg_list))"
   ]
  },
  {
   "cell_type": "markdown",
   "metadata": {},
   "source": [
    "### 디폴트형 기본모드 설명\n",
    "기본모드와 큰 차이를 갖지 않는다."
   ]
  },
  {
   "cell_type": "code",
   "execution_count": 5,
   "metadata": {},
   "outputs": [
    {
     "name": "stdout",
     "output_type": "stream",
     "text": [
      "검색모드 :  我/来到/韩国/外国/国语/外国语/大学/，/第一/专业/是/中文/，/第二/专业/是/经济/。\n"
     ]
    }
   ],
   "source": [
    "# 搜索引擎模式 (검색 모드)\n",
    "\n",
    "seg_list = jieba.cut_for_search(text)\n",
    "print(u\"검색모드 : \", \"/\".join(seg_list))"
   ]
  },
  {
   "cell_type": "markdown",
   "metadata": {},
   "source": [
    "### 검색모드 설명\n",
    "검색모드는 기본 모드를 기반으로 하며, 비교적 긴 단어를 잘라서 분석해주는 기능을 갖는다.\n",
    "Recall 값을 높여줄 수 있고, 검색 엔진 분석에 적합하다.\n",
    "다만 텍스트마이닝에서는 기본 모드가 더 우수하다."
   ]
  },
  {
   "cell_type": "code",
   "execution_count": null,
   "metadata": {},
   "outputs": [],
   "source": []
  },
  {
   "cell_type": "code",
   "execution_count": null,
   "metadata": {},
   "outputs": [],
   "source": [
    "## 여백의 미!"
   ]
  },
  {
   "cell_type": "code",
   "execution_count": null,
   "metadata": {},
   "outputs": [],
   "source": []
  },
  {
   "cell_type": "markdown",
   "metadata": {},
   "source": [
    "### 아마도 중국어 word2vec인듯하다"
   ]
  },
  {
   "cell_type": "code",
   "execution_count": null,
   "metadata": {},
   "outputs": [],
   "source": [
    "import jieba\n",
    "import gensim # 이건 설치해야 할 듯?\n",
    "q = [u'我到河北省来', u'好棒好棒哒']\n",
    "z = [list(jieba.cut(i)) for i in q]\n",
    "model = gensim.models.Word2Vec(z, min_count=1)\n",
    "model.similar_by_word(u'我')"
   ]
  },
  {
   "cell_type": "code",
   "execution_count": null,
   "metadata": {},
   "outputs": [],
   "source": []
  },
  {
   "cell_type": "code",
   "execution_count": null,
   "metadata": {},
   "outputs": [],
   "source": [
    "## 여백의 미!!"
   ]
  },
  {
   "cell_type": "code",
   "execution_count": null,
   "metadata": {},
   "outputs": [],
   "source": []
  },
  {
   "cell_type": "code",
   "execution_count": 7,
   "metadata": {},
   "outputs": [
    {
     "name": "stdout",
     "output_type": "stream",
     "text": [
      "我 r\n",
      "真 d\n",
      "喜欢 v\n",
      "吃 v\n",
      "麻婆豆腐 n\n"
     ]
    }
   ],
   "source": [
    "## 词性标注 (품사태깅)\n",
    "# part of speech tagging (POS tagging) \n",
    "# 문장 내 단어들의 품사를 식별해 각 태깅\n",
    "\n",
    "import jieba.posseg as pseg\n",
    "words = pseg.cut(\"我真喜欢吃麻婆豆腐\")\n",
    "for word, flag in words :\n",
    "    print('%s %s' %(word, flag))\n",
    "\n",
    "# a"
   ]
  },
  {
   "cell_type": "code",
   "execution_count": null,
   "metadata": {},
   "outputs": [],
   "source": []
  }
 ],
 "metadata": {
  "kernelspec": {
   "display_name": "pydatavenv",
   "language": "python",
   "name": "pydatavenv"
  },
  "language_info": {
   "codemirror_mode": {
    "name": "ipython",
    "version": 3
   },
   "file_extension": ".py",
   "mimetype": "text/x-python",
   "name": "python",
   "nbconvert_exporter": "python",
   "pygments_lexer": "ipython3",
   "version": "3.7.9"
  }
 },
 "nbformat": 4,
 "nbformat_minor": 4
}
